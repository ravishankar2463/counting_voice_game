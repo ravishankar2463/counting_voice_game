{
    "cells": [
        {
            "cell_type": "code",
            "execution_count": 1,
            "source": [
                "import speech_recognition as sr"
            ],
            "outputs": [],
            "metadata": {}
        },
        {
            "cell_type": "code",
            "execution_count": 15,
            "source": [
                "def recognize_speech_from_mic(recognizer, microphone):\r\n",
                "    # check that recognizer and microphone arguments are appropriate type\r\n",
                "    if not isinstance(recognizer, sr.Recognizer):\r\n",
                "        raise TypeError(\"`recognizer` must be `Recognizer` instance\")\r\n",
                "\r\n",
                "    if not isinstance(microphone, sr.Microphone):\r\n",
                "        raise TypeError(\"`microphone` must be `Microphone` instance\")\r\n",
                "\r\n",
                "    # set up the response object\r\n",
                "    response = {\r\n",
                "        \"success\": True,\r\n",
                "        \"error\": None,\r\n",
                "        \"transcription\": None\r\n",
                "    }\r\n",
                "\r\n",
                "    # adjust the recognizer sensitivity to ambient noise and record audio\r\n",
                "    # from the microphone\r\n",
                "    try:\r\n",
                "        with microphone as source:\r\n",
                "            # recognizer.adjust_for_ambient_noise(source)\r\n",
                "            audio = recognizer.listen(source,timeout=3)\r\n",
                "    except sr.WaitTimeoutError:\r\n",
                "        response[\"success\"] = False\r\n",
                "        response['error'] = \"Please speak in the mic, no audio was identified\"\r\n",
                "        return response\r\n",
                "\r\n",
                "    #try recognizing the speech in the recording\r\n",
                "    #if a RequestError or UnknownValueError exception is caught,\r\n",
                "    #    update the response object accordingly\r\n",
                "    try:\r\n",
                "        response[\"transcription\"] = recognizer.recognize_google(audio)\r\n",
                "    except sr.RequestError:\r\n",
                "        # API was unreachable or unresponsive\r\n",
                "        response[\"success\"] = False\r\n",
                "        response[\"error\"] = \"API unavailable\"\r\n",
                "    except sr.UnknownValueError:\r\n",
                "        # speech was unintelligible\r\n",
                "        response[\"error\"] = \"Unable to recognize speech\"\r\n",
                "\r\n",
                "    return response"
            ],
            "outputs": [],
            "metadata": {}
        },
        {
            "cell_type": "code",
            "execution_count": 39,
            "source": [
                "recognizer = sr.Recognizer()\r\n",
                "mic = sr.Microphone()\r\n",
                "recognizer.energy_threshold = 310\r\n",
                "recognizer.dynamic_energy_threshold = False"
            ],
            "outputs": [],
            "metadata": {}
        },
        {
            "cell_type": "code",
            "execution_count": 55,
            "source": [
                "response = recognize_speech_from_mic(recognizer,mic)"
            ],
            "outputs": [],
            "metadata": {}
        },
        {
            "cell_type": "code",
            "execution_count": 56,
            "source": [
                "print(response)"
            ],
            "outputs": [
                {
                    "output_type": "stream",
                    "name": "stdout",
                    "text": [
                        "{'success': True, 'error': None, 'transcription': '1'}\n"
                    ]
                }
            ],
            "metadata": {}
        }
    ],
    "metadata": {
        "orig_nbformat": 4,
        "language_info": {
            "name": "python",
            "version": "3.9.7",
            "mimetype": "text/x-python",
            "codemirror_mode": {
                "name": "ipython",
                "version": 3
            },
            "pygments_lexer": "ipython3",
            "nbconvert_exporter": "python",
            "file_extension": ".py"
        },
        "kernelspec": {
            "name": "python3",
            "display_name": "Python 3.9.7 64-bit"
        },
        "interpreter": {
            "hash": "61a75af3cc716a944b28d3d489812f5a1896e0d11b7784ccf9635a59f3992a08"
        }
    },
    "nbformat": 4,
    "nbformat_minor": 2
}